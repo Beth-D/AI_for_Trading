{
 "cells": [
  {
   "cell_type": "markdown",
   "metadata": {},
   "source": [
    "# Project 1: Trading with Momentum\n",
    "## Instructions\n",
    "Each problem consists of a function to implement and instructions on how to implement the function.  The parts of the function that need to be implemented are marked with a `# TODO` comment. After implementing the function, run the cell to test it against the unit tests we've provided. For each problem, we provide one or more unit tests from our `project_tests` package. These unit tests won't tell you if your answer is correct, but will warn you of any major errors. Your code will be checked for the correct solution when you submit it to Udacity.\n",
    "\n",
    "## Packages\n",
    "When you implement the functions, you'll only need to you use the packages you've used in the classroom, like [Pandas](https://pandas.pydata.org/) and [Numpy](http://www.numpy.org/). These packages will be imported for you. We recommend you don't add any import statements, otherwise the grader might not be able to run your code.\n",
    "\n",
    "The other packages that we're importing are `helper`, `project_helper`, and `project_tests`. These are custom packages built to help you solve the problems.  The `helper` and `project_helper` module contains utility functions and graph functions. The `project_tests` contains the unit tests for all the problems.\n",
    "\n",
    "### Install Packages"
   ]
  },
  {
   "cell_type": "code",
   "execution_count": 1,
   "metadata": {},
   "outputs": [
    {
     "name": "stdout",
     "output_type": "stream",
     "text": [
      "Collecting colour==0.1.5 (from -r requirements.txt (line 1))\n",
      "  Downloading https://files.pythonhosted.org/packages/74/46/e81907704ab203206769dee1385dc77e1407576ff8f50a0681d0a6b541be/colour-0.1.5-py2.py3-none-any.whl\n",
      "Collecting cvxpy==1.0.3 (from -r requirements.txt (line 2))\n",
      "\u001b[?25l  Downloading https://files.pythonhosted.org/packages/a1/59/2613468ffbbe3a818934d06b81b9f4877fe054afbf4f99d2f43f398a0b34/cvxpy-1.0.3.tar.gz (880kB)\n",
      "\u001b[K     |████████████████████████████████| 880kB 3.3MB/s eta 0:00:01\n",
      "\u001b[?25hRequirement already satisfied: cycler==0.10.0 in /Users/bethdougall/opt/anaconda3/lib/python3.7/site-packages (from -r requirements.txt (line 3)) (0.10.0)\n",
      "Collecting numpy==1.13.3 (from -r requirements.txt (line 4))\n",
      "\u001b[?25l  Downloading https://files.pythonhosted.org/packages/bf/2d/005e45738ab07a26e621c9c12dc97381f372e06678adf7dc3356a69b5960/numpy-1.13.3.zip (5.0MB)\n",
      "\u001b[K     |████████████████████████████████| 5.0MB 1.7MB/s eta 0:00:01\n",
      "\u001b[?25hCollecting pandas==0.21.1 (from -r requirements.txt (line 5))\n",
      "\u001b[?25l  Downloading https://files.pythonhosted.org/packages/4c/7e/96aaf955f2d8a829b3ca637368c726b5030bac01f22b6e66da3da361f467/pandas-0.21.1.tar.gz (11.3MB)\n",
      "\u001b[K     |████████████████████████████████| 11.3MB 3.5MB/s eta 0:00:01\n",
      "\u001b[?25h  Installing build dependencies ... \u001b[?25lerror\n",
      "\u001b[31m  ERROR: Command errored out with exit status 1:\n",
      "   command: /Users/bethdougall/opt/anaconda3/bin/python /Users/bethdougall/opt/anaconda3/lib/python3.7/site-packages/pip install --ignore-installed --no-user --prefix /private/var/folders/y_/yh1k044916l5rw1dq_41qrs00000gn/T/pip-build-env-68qcv7lo/overlay --no-warn-script-location --no-binary :none: --only-binary :none: -i https://pypi.org/simple -- wheel setuptools Cython 'numpy==1.9.3; python_version=='\"'\"'3.5'\"'\"'' 'numpy==1.12.1; python_version=='\"'\"'3.6'\"'\"'' 'numpy==1.13.1; python_version>='\"'\"'3.7'\"'\"''\n",
      "       cwd: None\n",
      "  Complete output (260 lines):\n",
      "  Ignoring numpy: markers 'python_version == \"3.5\"' don't match your environment\n",
      "  Ignoring numpy: markers 'python_version == \"3.6\"' don't match your environment\n",
      "  Collecting wheel\n",
      "    Using cached https://files.pythonhosted.org/packages/8c/23/848298cccf8e40f5bbb59009b32848a4c38f4e7f3364297ab3c3e2e2cd14/wheel-0.34.2-py2.py3-none-any.whl\n",
      "  Collecting setuptools\n",
      "    Using cached https://files.pythonhosted.org/packages/95/95/f657b6e17f00c3f35b5f68b10e46c3a43af353d8856bd57bfcfb1dbb3e92/setuptools-47.1.1-py3-none-any.whl\n",
      "  Collecting Cython\n",
      "    Downloading https://files.pythonhosted.org/packages/a4/87/d7431a94c7c438af66a91d63089be82cf0a5cb924fe2f74197c539f03568/Cython-0.29.20-cp37-cp37m-macosx_10_9_x86_64.whl (1.9MB)\n",
      "  Collecting numpy==1.13.1\n",
      "    Downloading https://files.pythonhosted.org/packages/c0/3a/40967d9f5675fbb097ffec170f59c2ba19fc96373e73ad47c2cae9a30aed/numpy-1.13.1.zip (5.0MB)\n",
      "  Building wheels for collected packages: numpy\n",
      "    Building wheel for numpy (setup.py): started\n",
      "    Building wheel for numpy (setup.py): finished with status 'error'\n",
      "    ERROR: Command errored out with exit status 1:\n",
      "     command: /Users/bethdougall/opt/anaconda3/bin/python -u -c 'import sys, setuptools, tokenize; sys.argv[0] = '\"'\"'/private/var/folders/y_/yh1k044916l5rw1dq_41qrs00000gn/T/pip-install-pi3n6xt7/numpy/setup.py'\"'\"'; __file__='\"'\"'/private/var/folders/y_/yh1k044916l5rw1dq_41qrs00000gn/T/pip-install-pi3n6xt7/numpy/setup.py'\"'\"';f=getattr(tokenize, '\"'\"'open'\"'\"', open)(__file__);code=f.read().replace('\"'\"'\\r\\n'\"'\"', '\"'\"'\\n'\"'\"');f.close();exec(compile(code, __file__, '\"'\"'exec'\"'\"'))' bdist_wheel -d /private/var/folders/y_/yh1k044916l5rw1dq_41qrs00000gn/T/pip-wheel-7uxyco86 --python-tag cp37\n",
      "         cwd: /private/var/folders/y_/yh1k044916l5rw1dq_41qrs00000gn/T/pip-install-pi3n6xt7/numpy/\n",
      "    Complete output (102 lines):\n",
      "    Running from numpy source directory.\n",
      "    blas_opt_info:\n",
      "    blas_mkl_info:\n",
      "      FOUND:\n",
      "        libraries = ['mkl_rt', 'pthread']\n",
      "        library_dirs = ['/Users/bethdougall/opt/anaconda3/lib']\n",
      "        define_macros = [('SCIPY_MKL_H', None), ('HAVE_CBLAS', None)]\n",
      "        include_dirs = ['/usr/local/include', '/Users/bethdougall/opt/anaconda3/include']\n",
      "  \n",
      "      FOUND:\n",
      "        libraries = ['mkl_rt', 'pthread']\n",
      "        library_dirs = ['/Users/bethdougall/opt/anaconda3/lib']\n",
      "        define_macros = [('SCIPY_MKL_H', None), ('HAVE_CBLAS', None)]\n",
      "        include_dirs = ['/usr/local/include', '/Users/bethdougall/opt/anaconda3/include']\n",
      "  \n",
      "    xcrun: error: invalid active developer path (/Library/Developer/CommandLineTools), missing xcrun at: /Library/Developer/CommandLineTools/usr/bin/xcrun\n",
      "    non-existing path in 'numpy/distutils': 'site.cfg'\n",
      "    xcrun: error: invalid active developer path (/Library/Developer/CommandLineTools), missing xcrun at: /Library/Developer/CommandLineTools/usr/bin/xcrun\n",
      "    F2PY Version 2\n",
      "    lapack_opt_info:\n",
      "    lapack_mkl_info:\n",
      "      FOUND:\n",
      "        libraries = ['mkl_rt', 'pthread']\n",
      "        library_dirs = ['/Users/bethdougall/opt/anaconda3/lib']\n",
      "        define_macros = [('SCIPY_MKL_H', None), ('HAVE_CBLAS', None)]\n",
      "        include_dirs = ['/usr/local/include', '/Users/bethdougall/opt/anaconda3/include']\n",
      "  \n",
      "      FOUND:\n",
      "        libraries = ['mkl_rt', 'pthread']\n",
      "        library_dirs = ['/Users/bethdougall/opt/anaconda3/lib']\n",
      "        define_macros = [('SCIPY_MKL_H', None), ('HAVE_CBLAS', None)]\n",
      "        include_dirs = ['/usr/local/include', '/Users/bethdougall/opt/anaconda3/include']\n",
      "  \n",
      "    /Users/bethdougall/opt/anaconda3/lib/python3.7/distutils/dist.py:274: UserWarning: Unknown distribution option: 'define_macros'\n",
      "      warnings.warn(msg)\n",
      "    running bdist_wheel\n",
      "    running build\n",
      "    running config_cc\n",
      "    unifing config_cc, config, build_clib, build_ext, build commands --compiler options\n",
      "    running config_fc\n",
      "    unifing config_fc, config, build_clib, build_ext, build commands --fcompiler options\n",
      "    running build_src\n",
      "    build_src\n",
      "    building py_modules sources\n",
      "    creating build\n",
      "    creating build/src.macosx-10.9-x86_64-3.7\n",
      "    creating build/src.macosx-10.9-x86_64-3.7/numpy\n",
      "    creating build/src.macosx-10.9-x86_64-3.7/numpy/distutils\n",
      "    building library \"npymath\" sources\n",
      "    customize Gnu95FCompiler\n",
      "    Found executable /usr/local/bin/gfortran\n",
      "    customize Gnu95FCompiler\n",
      "    customize Gnu95FCompiler using config\n",
      "    C compiler: gcc -Wno-unused-result -Wsign-compare -Wunreachable-code -DNDEBUG -g -fwrapv -O3 -Wall -Wstrict-prototypes -I/Users/bethdougall/opt/anaconda3/include -arch x86_64 -I/Users/bethdougall/opt/anaconda3/include -arch x86_64\n",
      "  \n",
      "    compile options: '-Inumpy/core/src/private -Inumpy/core/src -Inumpy/core -Inumpy/core/src/npymath -Inumpy/core/src/multiarray -Inumpy/core/src/umath -Inumpy/core/src/npysort -I/Users/bethdougall/opt/anaconda3/include/python3.7m -c'\n",
      "    gcc: _configtest.c\n",
      "    xcrun: error: invalid active developer path (/Library/Developer/CommandLineTools), missing xcrun at: /Library/Developer/CommandLineTools/usr/bin/xcrun\n",
      "    xcrun: error: invalid active developer path (/Library/Developer/CommandLineTools), missing xcrun at: /Library/Developer/CommandLineTools/usr/bin/xcrun\n",
      "    failure.\n",
      "    removing: _configtest.c _configtest.o\n",
      "    Traceback (most recent call last):\n",
      "      File \"<string>\", line 1, in <module>\n",
      "      File \"/private/var/folders/y_/yh1k044916l5rw1dq_41qrs00000gn/T/pip-install-pi3n6xt7/numpy/setup.py\", line 392, in <module>\n",
      "        setup_package()\n",
      "      File \"/private/var/folders/y_/yh1k044916l5rw1dq_41qrs00000gn/T/pip-install-pi3n6xt7/numpy/setup.py\", line 384, in setup_package\n",
      "        setup(**metadata)\n",
      "      File \"/private/var/folders/y_/yh1k044916l5rw1dq_41qrs00000gn/T/pip-install-pi3n6xt7/numpy/numpy/distutils/core.py\", line 169, in setup\n",
      "        return old_setup(**new_attr)\n",
      "      File \"/Users/bethdougall/opt/anaconda3/lib/python3.7/site-packages/setuptools/__init__.py\", line 145, in setup\n",
      "        return distutils.core.setup(**attrs)\n",
      "      File \"/Users/bethdougall/opt/anaconda3/lib/python3.7/distutils/core.py\", line 148, in setup\n",
      "        dist.run_commands()\n",
      "      File \"/Users/bethdougall/opt/anaconda3/lib/python3.7/distutils/dist.py\", line 966, in run_commands\n",
      "        self.run_command(cmd)\n",
      "      File \"/Users/bethdougall/opt/anaconda3/lib/python3.7/distutils/dist.py\", line 985, in run_command\n",
      "        cmd_obj.run()\n",
      "      File \"/Users/bethdougall/opt/anaconda3/lib/python3.7/site-packages/wheel/bdist_wheel.py\", line 192, in run\n",
      "        self.run_command('build')\n",
      "      File \"/Users/bethdougall/opt/anaconda3/lib/python3.7/distutils/cmd.py\", line 313, in run_command\n",
      "        self.distribution.run_command(command)\n",
      "      File \"/Users/bethdougall/opt/anaconda3/lib/python3.7/distutils/dist.py\", line 985, in run_command\n",
      "        cmd_obj.run()\n",
      "      File \"/private/var/folders/y_/yh1k044916l5rw1dq_41qrs00000gn/T/pip-install-pi3n6xt7/numpy/numpy/distutils/command/build.py\", line 47, in run\n",
      "        old_build.run(self)\n",
      "      File \"/Users/bethdougall/opt/anaconda3/lib/python3.7/distutils/command/build.py\", line 135, in run\n",
      "        self.run_command(cmd_name)\n",
      "      File \"/Users/bethdougall/opt/anaconda3/lib/python3.7/distutils/cmd.py\", line 313, in run_command\n",
      "        self.distribution.run_command(command)\n",
      "      File \"/Users/bethdougall/opt/anaconda3/lib/python3.7/distutils/dist.py\", line 985, in run_command\n",
      "        cmd_obj.run()\n",
      "      File \"/private/var/folders/y_/yh1k044916l5rw1dq_41qrs00000gn/T/pip-install-pi3n6xt7/numpy/numpy/distutils/command/build_src.py\", line 148, in run\n",
      "        self.build_sources()\n",
      "      File \"/private/var/folders/y_/yh1k044916l5rw1dq_41qrs00000gn/T/pip-install-pi3n6xt7/numpy/numpy/distutils/command/build_src.py\", line 159, in build_sources\n",
      "        self.build_library_sources(*libname_info)\n",
      "      File \"/private/var/folders/y_/yh1k044916l5rw1dq_41qrs00000gn/T/pip-install-pi3n6xt7/numpy/numpy/distutils/command/build_src.py\", line 294, in build_library_sources\n",
      "        sources = self.generate_sources(sources, (lib_name, build_info))\n",
      "      File \"/private/var/folders/y_/yh1k044916l5rw1dq_41qrs00000gn/T/pip-install-pi3n6xt7/numpy/numpy/distutils/command/build_src.py\", line 377, in generate_sources\n",
      "        source = func(extension, build_dir)\n",
      "      File \"numpy/core/setup.py\", line 674, in get_mathlib_info\n",
      "        raise RuntimeError(\"Broken toolchain: cannot link a simple C program\")\n",
      "    RuntimeError: Broken toolchain: cannot link a simple C program\n",
      "    ----------------------------------------\n",
      "    ERROR: Failed building wheel for numpy\n",
      "    Running setup.py clean for numpy\n",
      "    ERROR: Command errored out with exit status 1:\n",
      "     command: /Users/bethdougall/opt/anaconda3/bin/python -u -c 'import sys, setuptools, tokenize; sys.argv[0] = '\"'\"'/private/var/folders/y_/yh1k044916l5rw1dq_41qrs00000gn/T/pip-install-pi3n6xt7/numpy/setup.py'\"'\"'; __file__='\"'\"'/private/var/folders/y_/yh1k044916l5rw1dq_41qrs00000gn/T/pip-install-pi3n6xt7/numpy/setup.py'\"'\"';f=getattr(tokenize, '\"'\"'open'\"'\"', open)(__file__);code=f.read().replace('\"'\"'\\r\\n'\"'\"', '\"'\"'\\n'\"'\"');f.close();exec(compile(code, __file__, '\"'\"'exec'\"'\"'))' clean --all\n",
      "         cwd: /private/var/folders/y_/yh1k044916l5rw1dq_41qrs00000gn/T/pip-install-pi3n6xt7/numpy\n",
      "    Complete output (10 lines):\n",
      "    Running from numpy source directory.\n",
      "  \n",
      "    `setup.py clean` is not supported, use one of the following instead:\n",
      "  \n",
      "      - `git clean -xdf` (cleans all files)\n",
      "      - `git clean -Xdf` (cleans all versioned files, doesn't touch\n",
      "                          files that aren't checked into the git repo)\n",
      "  \n",
      "    Add `--force` to your command to use it anyway if you must (unsupported).\n",
      "  \n",
      "    ----------------------------------------\n",
      "    ERROR: Failed cleaning build dir for numpy\n",
      "  Failed to build numpy\n",
      "  ERROR: pandas 0.25.1 has requirement numpy>=1.13.3, but you'll have numpy 1.13.1 which is incompatible.\n",
      "  Installing collected packages: wheel, setuptools, Cython, numpy\n",
      "    Running setup.py install for numpy: started\n",
      "      Running setup.py install for numpy: finished with status 'error'\n",
      "      ERROR: Command errored out with exit status 1:\n",
      "       command: /Users/bethdougall/opt/anaconda3/bin/python -u -c 'import sys, setuptools, tokenize; sys.argv[0] = '\"'\"'/private/var/folders/y_/yh1k044916l5rw1dq_41qrs00000gn/T/pip-install-pi3n6xt7/numpy/setup.py'\"'\"'; __file__='\"'\"'/private/var/folders/y_/yh1k044916l5rw1dq_41qrs00000gn/T/pip-install-pi3n6xt7/numpy/setup.py'\"'\"';f=getattr(tokenize, '\"'\"'open'\"'\"', open)(__file__);code=f.read().replace('\"'\"'\\r\\n'\"'\"', '\"'\"'\\n'\"'\"');f.close();exec(compile(code, __file__, '\"'\"'exec'\"'\"'))' install --record /private/var/folders/y_/yh1k044916l5rw1dq_41qrs00000gn/T/pip-record-5wmzz72h/install-record.txt --single-version-externally-managed --prefix /private/var/folders/y_/yh1k044916l5rw1dq_41qrs00000gn/T/pip-build-env-68qcv7lo/overlay --compile\n",
      "           cwd: /private/var/folders/y_/yh1k044916l5rw1dq_41qrs00000gn/T/pip-install-pi3n6xt7/numpy/\n",
      "      Complete output (111 lines):\n",
      "      Running from numpy source directory.\n",
      "  \n",
      "      Note: if you need reliable uninstall behavior, then install\n",
      "      with pip instead of using `setup.py install`:\n",
      "  \n",
      "        - `pip install .`       (from a git repo or downloaded source\n",
      "                                 release)\n",
      "        - `pip install numpy`   (last NumPy release on PyPi)\n",
      "  \n",
      "  \n",
      "      blas_opt_info:\n",
      "      blas_mkl_info:\n",
      "        FOUND:\n",
      "          libraries = ['mkl_rt', 'pthread']\n",
      "          library_dirs = ['/Users/bethdougall/opt/anaconda3/lib']\n",
      "          define_macros = [('SCIPY_MKL_H', None), ('HAVE_CBLAS', None)]\n",
      "          include_dirs = ['/usr/local/include', '/Users/bethdougall/opt/anaconda3/include']\n",
      "  \n",
      "        FOUND:\n",
      "          libraries = ['mkl_rt', 'pthread']\n",
      "          library_dirs = ['/Users/bethdougall/opt/anaconda3/lib']\n",
      "          define_macros = [('SCIPY_MKL_H', None), ('HAVE_CBLAS', None)]\n",
      "          include_dirs = ['/usr/local/include', '/Users/bethdougall/opt/anaconda3/include']\n",
      "  \n",
      "      xcrun: error: invalid active developer path (/Library/Developer/CommandLineTools), missing xcrun at: /Library/Developer/CommandLineTools/usr/bin/xcrun\n",
      "      non-existing path in 'numpy/distutils': 'site.cfg'\n",
      "      xcrun: error: invalid active developer path (/Library/Developer/CommandLineTools), missing xcrun at: /Library/Developer/CommandLineTools/usr/bin/xcrun\n",
      "      F2PY Version 2\n",
      "      lapack_opt_info:\n",
      "      lapack_mkl_info:\n",
      "        FOUND:\n",
      "          libraries = ['mkl_rt', 'pthread']\n",
      "          library_dirs = ['/Users/bethdougall/opt/anaconda3/lib']\n",
      "          define_macros = [('SCIPY_MKL_H', None), ('HAVE_CBLAS', None)]\n",
      "          include_dirs = ['/usr/local/include', '/Users/bethdougall/opt/anaconda3/include']\n",
      "  \n",
      "        FOUND:\n",
      "          libraries = ['mkl_rt', 'pthread']\n",
      "          library_dirs = ['/Users/bethdougall/opt/anaconda3/lib']\n",
      "          define_macros = [('SCIPY_MKL_H', None), ('HAVE_CBLAS', None)]\n",
      "          include_dirs = ['/usr/local/include', '/Users/bethdougall/opt/anaconda3/include']\n",
      "  \n",
      "      /Users/bethdougall/opt/anaconda3/lib/python3.7/distutils/dist.py:274: UserWarning: Unknown distribution option: 'define_macros'\n",
      "        warnings.warn(msg)\n",
      "      running install\n",
      "      running build\n",
      "      running config_cc\n",
      "      unifing config_cc, config, build_clib, build_ext, build commands --compiler options\n",
      "      running config_fc\n",
      "      unifing config_fc, config, build_clib, build_ext, build commands --fcompiler options\n",
      "      running build_src\n",
      "      build_src\n",
      "      building py_modules sources\n",
      "      building library \"npymath\" sources\n",
      "      customize Gnu95FCompiler\n",
      "      Found executable /usr/local/bin/gfortran\n",
      "      customize Gnu95FCompiler\n",
      "      customize Gnu95FCompiler using config\n",
      "      C compiler: gcc -Wno-unused-result -Wsign-compare -Wunreachable-code -DNDEBUG -g -fwrapv -O3 -Wall -Wstrict-prototypes -I/Users/bethdougall/opt/anaconda3/include -arch x86_64 -I/Users/bethdougall/opt/anaconda3/include -arch x86_64\n",
      "  \n",
      "      compile options: '-Inumpy/core/src/private -Inumpy/core/src -Inumpy/core -Inumpy/core/src/npymath -Inumpy/core/src/multiarray -Inumpy/core/src/umath -Inumpy/core/src/npysort -I/Users/bethdougall/opt/anaconda3/include/python3.7m -c'\n",
      "      gcc: _configtest.c\n",
      "      xcrun: error: invalid active developer path (/Library/Developer/CommandLineTools), missing xcrun at: /Library/Developer/CommandLineTools/usr/bin/xcrun\n",
      "      xcrun: error: invalid active developer path (/Library/Developer/CommandLineTools), missing xcrun at: /Library/Developer/CommandLineTools/usr/bin/xcrun\n",
      "      failure.\n",
      "      removing: _configtest.c _configtest.o\n",
      "      Traceback (most recent call last):\n",
      "        File \"<string>\", line 1, in <module>\n",
      "        File \"/private/var/folders/y_/yh1k044916l5rw1dq_41qrs00000gn/T/pip-install-pi3n6xt7/numpy/setup.py\", line 392, in <module>\n",
      "          setup_package()\n",
      "        File \"/private/var/folders/y_/yh1k044916l5rw1dq_41qrs00000gn/T/pip-install-pi3n6xt7/numpy/setup.py\", line 384, in setup_package\n",
      "          setup(**metadata)\n",
      "        File \"/private/var/folders/y_/yh1k044916l5rw1dq_41qrs00000gn/T/pip-install-pi3n6xt7/numpy/numpy/distutils/core.py\", line 169, in setup\n",
      "          return old_setup(**new_attr)\n",
      "        File \"/Users/bethdougall/opt/anaconda3/lib/python3.7/site-packages/setuptools/__init__.py\", line 145, in setup\n",
      "          return distutils.core.setup(**attrs)\n",
      "        File \"/Users/bethdougall/opt/anaconda3/lib/python3.7/distutils/core.py\", line 148, in setup\n",
      "          dist.run_commands()\n",
      "        File \"/Users/bethdougall/opt/anaconda3/lib/python3.7/distutils/dist.py\", line 966, in run_commands\n",
      "          self.run_command(cmd)\n",
      "        File \"/Users/bethdougall/opt/anaconda3/lib/python3.7/distutils/dist.py\", line 985, in run_command\n",
      "          cmd_obj.run()\n",
      "        File \"/private/var/folders/y_/yh1k044916l5rw1dq_41qrs00000gn/T/pip-install-pi3n6xt7/numpy/numpy/distutils/command/install.py\", line 62, in run\n",
      "          r = self.setuptools_run()\n",
      "        File \"/private/var/folders/y_/yh1k044916l5rw1dq_41qrs00000gn/T/pip-install-pi3n6xt7/numpy/numpy/distutils/command/install.py\", line 36, in setuptools_run\n",
      "          return distutils_install.run(self)\n",
      "        File \"/Users/bethdougall/opt/anaconda3/lib/python3.7/distutils/command/install.py\", line 545, in run\n",
      "          self.run_command('build')\n",
      "        File \"/Users/bethdougall/opt/anaconda3/lib/python3.7/distutils/cmd.py\", line 313, in run_command\n",
      "          self.distribution.run_command(command)\n",
      "        File \"/Users/bethdougall/opt/anaconda3/lib/python3.7/distutils/dist.py\", line 985, in run_command\n",
      "          cmd_obj.run()\n",
      "        File \"/private/var/folders/y_/yh1k044916l5rw1dq_41qrs00000gn/T/pip-install-pi3n6xt7/numpy/numpy/distutils/command/build.py\", line 47, in run\n",
      "          old_build.run(self)\n",
      "        File \"/Users/bethdougall/opt/anaconda3/lib/python3.7/distutils/command/build.py\", line 135, in run\n",
      "          self.run_command(cmd_name)\n",
      "        File \"/Users/bethdougall/opt/anaconda3/lib/python3.7/distutils/cmd.py\", line 313, in run_command\n",
      "          self.distribution.run_command(command)\n",
      "        File \"/Users/bethdougall/opt/anaconda3/lib/python3.7/distutils/dist.py\", line 985, in run_command\n",
      "          cmd_obj.run()\n",
      "        File \"/private/var/folders/y_/yh1k044916l5rw1dq_41qrs00000gn/T/pip-install-pi3n6xt7/numpy/numpy/distutils/command/build_src.py\", line 148, in run\n",
      "          self.build_sources()\n",
      "        File \"/private/var/folders/y_/yh1k044916l5rw1dq_41qrs00000gn/T/pip-install-pi3n6xt7/numpy/numpy/distutils/command/build_src.py\", line 159, in build_sources\n",
      "          self.build_library_sources(*libname_info)\n",
      "        File \"/private/var/folders/y_/yh1k044916l5rw1dq_41qrs00000gn/T/pip-install-pi3n6xt7/numpy/numpy/distutils/command/build_src.py\", line 294, in build_library_sources\n",
      "          sources = self.generate_sources(sources, (lib_name, build_info))\n",
      "        File \"/private/var/folders/y_/yh1k044916l5rw1dq_41qrs00000gn/T/pip-install-pi3n6xt7/numpy/numpy/distutils/command/build_src.py\", line 377, in generate_sources\n",
      "          source = func(extension, build_dir)\n",
      "        File \"numpy/core/setup.py\", line 674, in get_mathlib_info\n",
      "          raise RuntimeError(\"Broken toolchain: cannot link a simple C program\")\n",
      "      RuntimeError: Broken toolchain: cannot link a simple C program\n",
      "      ----------------------------------------\n",
      "  ERROR: Command errored out with exit status 1: /Users/bethdougall/opt/anaconda3/bin/python -u -c 'import sys, setuptools, tokenize; sys.argv[0] = '\"'\"'/private/var/folders/y_/yh1k044916l5rw1dq_41qrs00000gn/T/pip-install-pi3n6xt7/numpy/setup.py'\"'\"'; __file__='\"'\"'/private/var/folders/y_/yh1k044916l5rw1dq_41qrs00000gn/T/pip-install-pi3n6xt7/numpy/setup.py'\"'\"';f=getattr(tokenize, '\"'\"'open'\"'\"', open)(__file__);code=f.read().replace('\"'\"'\\r\\n'\"'\"', '\"'\"'\\n'\"'\"');f.close();exec(compile(code, __file__, '\"'\"'exec'\"'\"'))' install --record /private/var/folders/y_/yh1k044916l5rw1dq_41qrs00000gn/T/pip-record-5wmzz72h/install-record.txt --single-version-externally-managed --prefix /private/var/folders/y_/yh1k044916l5rw1dq_41qrs00000gn/T/pip-build-env-68qcv7lo/overlay --compile Check the logs for full command output.\n",
      "  ----------------------------------------\u001b[0m\n"
     ]
    },
    {
     "name": "stdout",
     "output_type": "stream",
     "text": [
      "\u001b[31mERROR: Command errored out with exit status 1: /Users/bethdougall/opt/anaconda3/bin/python /Users/bethdougall/opt/anaconda3/lib/python3.7/site-packages/pip install --ignore-installed --no-user --prefix /private/var/folders/y_/yh1k044916l5rw1dq_41qrs00000gn/T/pip-build-env-68qcv7lo/overlay --no-warn-script-location --no-binary :none: --only-binary :none: -i https://pypi.org/simple -- wheel setuptools Cython 'numpy==1.9.3; python_version=='\"'\"'3.5'\"'\"'' 'numpy==1.12.1; python_version=='\"'\"'3.6'\"'\"'' 'numpy==1.13.1; python_version>='\"'\"'3.7'\"'\"'' Check the logs for full command output.\u001b[0m\n",
      "\u001b[?25h"
     ]
    }
   ],
   "source": [
    "import sys\n",
    "!{sys.executable} -m pip install -r requirements.txt"
   ]
  },
  {
   "cell_type": "markdown",
   "metadata": {},
   "source": [
    "### Load Packages"
   ]
  },
  {
   "cell_type": "code",
   "execution_count": 2,
   "metadata": {},
   "outputs": [
    {
     "data": {
      "text/html": [
       "        <script type=\"text/javascript\">\n",
       "        window.PlotlyConfig = {MathJaxConfig: 'local'};\n",
       "        if (window.MathJax) {MathJax.Hub.Config({SVG: {font: \"STIX-Web\"}});}\n",
       "        if (typeof require !== 'undefined') {\n",
       "        require.undef(\"plotly\");\n",
       "        requirejs.config({\n",
       "            paths: {\n",
       "                'plotly': ['https://cdn.plot.ly/plotly-latest.min']\n",
       "            }\n",
       "        });\n",
       "        require(['plotly'], function(Plotly) {\n",
       "            window._Plotly = Plotly;\n",
       "        });\n",
       "        }\n",
       "        </script>\n",
       "        "
      ]
     },
     "metadata": {},
     "output_type": "display_data"
    },
    {
     "ename": "ImportError",
     "evalue": "cannot import name 'generate_random_tickers' from 'tests' (/Users/bethdougall/opt/anaconda3/lib/python3.7/site-packages/tests/__init__.py)",
     "output_type": "error",
     "traceback": [
      "\u001b[0;31m---------------------------------------------------------------------------\u001b[0m",
      "\u001b[0;31mImportError\u001b[0m                               Traceback (most recent call last)",
      "\u001b[0;32m<ipython-input-2-504bb0e8ad18>\u001b[0m in \u001b[0;36m<module>\u001b[0;34m\u001b[0m\n\u001b[1;32m      3\u001b[0m \u001b[0;32mimport\u001b[0m \u001b[0mhelper\u001b[0m\u001b[0;34m\u001b[0m\u001b[0;34m\u001b[0m\u001b[0m\n\u001b[1;32m      4\u001b[0m \u001b[0;32mimport\u001b[0m \u001b[0mproject_helper\u001b[0m\u001b[0;34m\u001b[0m\u001b[0;34m\u001b[0m\u001b[0m\n\u001b[0;32m----> 5\u001b[0;31m \u001b[0;32mimport\u001b[0m \u001b[0mproject_tests\u001b[0m\u001b[0;34m\u001b[0m\u001b[0;34m\u001b[0m\u001b[0m\n\u001b[0m",
      "\u001b[0;32m~/Documents/Udacity/AI_For_Trading/Section_1/Project_1_Trading_With_Momentum/project_tests.py\u001b[0m in \u001b[0;36m<module>\u001b[0;34m\u001b[0m\n\u001b[1;32m      3\u001b[0m \u001b[0;32mimport\u001b[0m \u001b[0mnumpy\u001b[0m \u001b[0;32mas\u001b[0m \u001b[0mnp\u001b[0m\u001b[0;34m\u001b[0m\u001b[0;34m\u001b[0m\u001b[0m\n\u001b[1;32m      4\u001b[0m \u001b[0;34m\u001b[0m\u001b[0m\n\u001b[0;32m----> 5\u001b[0;31m \u001b[0;32mfrom\u001b[0m \u001b[0mtests\u001b[0m \u001b[0;32mimport\u001b[0m \u001b[0mgenerate_random_tickers\u001b[0m\u001b[0;34m,\u001b[0m \u001b[0massert_output\u001b[0m\u001b[0;34m,\u001b[0m \u001b[0mproject_test\u001b[0m\u001b[0;34m\u001b[0m\u001b[0;34m\u001b[0m\u001b[0m\n\u001b[0m\u001b[1;32m      6\u001b[0m \u001b[0;34m\u001b[0m\u001b[0m\n\u001b[1;32m      7\u001b[0m \u001b[0;34m\u001b[0m\u001b[0m\n",
      "\u001b[0;31mImportError\u001b[0m: cannot import name 'generate_random_tickers' from 'tests' (/Users/bethdougall/opt/anaconda3/lib/python3.7/site-packages/tests/__init__.py)"
     ]
    }
   ],
   "source": [
    "import pandas as pd\n",
    "import numpy as np\n",
    "import helper\n",
    "import project_helper\n",
    "import project_tests"
   ]
  },
  {
   "cell_type": "markdown",
   "metadata": {},
   "source": [
    "## Market Data\n",
    "### Load Data\n",
    "The data we use for most of the projects is end of day data. This contains data for many stocks, but we'll be looking at stocks in the S&P 500. We also made things a little easier to run by narrowing down our range of time period instead of using all of the data."
   ]
  },
  {
   "cell_type": "code",
   "execution_count": null,
   "metadata": {},
   "outputs": [],
   "source": [
    "df = pd.read_csv('../../data/project_1/eod-quotemedia.csv', parse_dates=['date'], index_col=False)\n",
    "\n",
    "close = df.reset_index().pivot(index='date', columns='ticker', values='adj_close')\n",
    "\n",
    "print('Loaded Data')"
   ]
  },
  {
   "cell_type": "markdown",
   "metadata": {},
   "source": [
    "### View Data\n",
    "Run the cell below to see what the data looks like for `close`."
   ]
  },
  {
   "cell_type": "code",
   "execution_count": null,
   "metadata": {
    "scrolled": true
   },
   "outputs": [],
   "source": [
    "project_helper.print_dataframe(close)"
   ]
  },
  {
   "cell_type": "markdown",
   "metadata": {},
   "source": [
    "### Stock Example\n",
    "Let's see what a single stock looks like from the closing prices. For this example and future display examples in this project, we'll use Apple's stock (AAPL). If we tried to graph all the stocks, it would be too much information."
   ]
  },
  {
   "cell_type": "code",
   "execution_count": null,
   "metadata": {},
   "outputs": [],
   "source": [
    "apple_ticker = 'AAPL'\n",
    "project_helper.plot_stock(close[apple_ticker], '{} Stock'.format(apple_ticker))"
   ]
  },
  {
   "cell_type": "markdown",
   "metadata": {},
   "source": [
    "## Resample Adjusted Prices\n",
    "\n",
    "The trading signal you'll develop in this project does not need to be based on daily prices, for instance, you can use month-end prices to perform trading once a month. To do this, you must first resample the daily adjusted closing prices into monthly buckets, and select the last observation of each month.\n",
    "\n",
    "Implement the `resample_prices` to resample `close_prices` at the sampling frequency of `freq`."
   ]
  },
  {
   "cell_type": "code",
   "execution_count": null,
   "metadata": {},
   "outputs": [],
   "source": [
    "def resample_prices(close_prices, freq='M'):\n",
    "    \"\"\"\n",
    "    Resample close prices for each ticker at specified frequency.\n",
    "    \n",
    "    Parameters\n",
    "    ----------\n",
    "    close_prices : DataFrame\n",
    "        Close prices for each ticker and date\n",
    "    freq : str\n",
    "        What frequency to sample at\n",
    "        For valid freq choices, see http://pandas.pydata.org/pandas-docs/stable/timeseries.html#offset-aliases\n",
    "    \n",
    "    Returns\n",
    "    -------\n",
    "    prices_resampled : DataFrame\n",
    "        Resampled prices for each ticker and date\n",
    "    \"\"\"\n",
    "    # TODO: Implement Function\n",
    "    \n",
    "    return None\n",
    "\n",
    "project_tests.test_resample_prices(resample_prices)"
   ]
  },
  {
   "cell_type": "markdown",
   "metadata": {},
   "source": [
    "### View Data\n",
    "Let's apply this function to `close` and view the results."
   ]
  },
  {
   "cell_type": "code",
   "execution_count": null,
   "metadata": {},
   "outputs": [],
   "source": [
    "monthly_close = resample_prices(close)\n",
    "project_helper.plot_resampled_prices(\n",
    "    monthly_close.loc[:, apple_ticker],\n",
    "    close.loc[:, apple_ticker],\n",
    "    '{} Stock - Close Vs Monthly Close'.format(apple_ticker))"
   ]
  },
  {
   "cell_type": "markdown",
   "metadata": {},
   "source": [
    "## Compute Log Returns\n",
    "\n",
    "Compute log returns ($R_t$) from prices ($P_t$) as your primary momentum indicator:\n",
    "\n",
    "$$R_t = log_e(P_t) - log_e(P_{t-1})$$\n",
    "\n",
    "Implement the `compute_log_returns` function below, such that it accepts a dataframe (like one returned by `resample_prices`), and produces a similar dataframe of log returns. Use Numpy's [log function](https://docs.scipy.org/doc/numpy/reference/generated/numpy.log.html) to help you calculate the log returns."
   ]
  },
  {
   "cell_type": "code",
   "execution_count": null,
   "metadata": {},
   "outputs": [],
   "source": [
    "def compute_log_returns(prices):\n",
    "    \"\"\"\n",
    "    Compute log returns for each ticker.\n",
    "    \n",
    "    Parameters\n",
    "    ----------\n",
    "    prices : DataFrame\n",
    "        Prices for each ticker and date\n",
    "    \n",
    "    Returns\n",
    "    -------\n",
    "    log_returns : DataFrame\n",
    "        Log returns for each ticker and date\n",
    "    \"\"\"\n",
    "    # TODO: Implement Function\n",
    "    \n",
    "    return None\n",
    "\n",
    "project_tests.test_compute_log_returns(compute_log_returns)"
   ]
  },
  {
   "cell_type": "markdown",
   "metadata": {},
   "source": [
    "### View Data\n",
    "Using the same data returned from `resample_prices`, we'll generate the log returns."
   ]
  },
  {
   "cell_type": "code",
   "execution_count": null,
   "metadata": {},
   "outputs": [],
   "source": [
    "monthly_close_returns = compute_log_returns(monthly_close)\n",
    "project_helper.plot_returns(\n",
    "    monthly_close_returns.loc[:, apple_ticker],\n",
    "    'Log Returns of {} Stock (Monthly)'.format(apple_ticker))"
   ]
  },
  {
   "cell_type": "markdown",
   "metadata": {},
   "source": [
    "## Shift Returns\n",
    "Implement the `shift_returns` function to shift the log returns to the previous or future returns in the time series. For example, the parameter `shift_n` is 2 and `returns` is the following:\n",
    "\n",
    "```\n",
    "                           Returns\n",
    "               A         B         C         D\n",
    "2013-07-08     0.015     0.082     0.096     0.020     ...\n",
    "2013-07-09     0.037     0.095     0.027     0.063     ...\n",
    "2013-07-10     0.094     0.001     0.093     0.019     ...\n",
    "2013-07-11     0.092     0.057     0.069     0.087     ...\n",
    "...            ...       ...       ...       ...\n",
    "```\n",
    "\n",
    "the output of the `shift_returns` function would be:\n",
    "```\n",
    "                        Shift Returns\n",
    "               A         B         C         D\n",
    "2013-07-08     NaN       NaN       NaN       NaN       ...\n",
    "2013-07-09     NaN       NaN       NaN       NaN       ...\n",
    "2013-07-10     0.015     0.082     0.096     0.020     ...\n",
    "2013-07-11     0.037     0.095     0.027     0.063     ...\n",
    "...            ...       ...       ...       ...\n",
    "```\n",
    "Using the same `returns` data as above, the `shift_returns` function should generate the following with `shift_n` as -2:\n",
    "```\n",
    "                        Shift Returns\n",
    "               A         B         C         D\n",
    "2013-07-08     0.094     0.001     0.093     0.019     ...\n",
    "2013-07-09     0.092     0.057     0.069     0.087     ...\n",
    "...            ...       ...       ...       ...       ...\n",
    "...            ...       ...       ...       ...       ...\n",
    "...            NaN       NaN       NaN       NaN       ...\n",
    "...            NaN       NaN       NaN       NaN       ...\n",
    "```\n",
    "_Note: The \"...\" represents data points we're not showing._"
   ]
  },
  {
   "cell_type": "code",
   "execution_count": null,
   "metadata": {},
   "outputs": [],
   "source": [
    "def shift_returns(returns, shift_n):\n",
    "    \"\"\"\n",
    "    Generate shifted returns\n",
    "    \n",
    "    Parameters\n",
    "    ----------\n",
    "    returns : DataFrame\n",
    "        Returns for each ticker and date\n",
    "    shift_n : int\n",
    "        Number of periods to move, can be positive or negative\n",
    "    \n",
    "    Returns\n",
    "    -------\n",
    "    shifted_returns : DataFrame\n",
    "        Shifted returns for each ticker and date\n",
    "    \"\"\"\n",
    "    # TODO: Implement Function\n",
    "    \n",
    "    return None\n",
    "\n",
    "project_tests.test_shift_returns(shift_returns)"
   ]
  },
  {
   "cell_type": "markdown",
   "metadata": {},
   "source": [
    "### View Data\n",
    "Let's get the previous month's and next month's returns."
   ]
  },
  {
   "cell_type": "code",
   "execution_count": null,
   "metadata": {},
   "outputs": [],
   "source": [
    "prev_returns = shift_returns(monthly_close_returns, 1)\n",
    "lookahead_returns = shift_returns(monthly_close_returns, -1)\n",
    "\n",
    "project_helper.plot_shifted_returns(\n",
    "    prev_returns.loc[:, apple_ticker],\n",
    "    monthly_close_returns.loc[:, apple_ticker],\n",
    "    'Previous Returns of {} Stock'.format(apple_ticker))\n",
    "project_helper.plot_shifted_returns(\n",
    "    lookahead_returns.loc[:, apple_ticker],\n",
    "    monthly_close_returns.loc[:, apple_ticker],\n",
    "    'Lookahead Returns of {} Stock'.format(apple_ticker))"
   ]
  },
  {
   "cell_type": "markdown",
   "metadata": {},
   "source": [
    "## Generate Trading Signal\n",
    "\n",
    "A trading signal is a sequence of trading actions, or results that can be used to take trading actions. A common form is to produce a \"long\" and \"short\" portfolio of stocks on each date (e.g. end of each month, or whatever frequency you desire to trade at). This signal can be interpreted as rebalancing your portfolio on each of those dates, entering long (\"buy\") and short (\"sell\") positions as indicated.\n",
    "\n",
    "Here's a strategy that we will try:\n",
    "> For each month-end observation period, rank the stocks by _previous_ returns, from the highest to the lowest. Select the top performing stocks for the long portfolio, and the bottom performing stocks for the short portfolio.\n",
    "\n",
    "Implement the `get_top_n` function to get the top performing stock for each month. Get the top performing stocks from `prev_returns` by assigning them a value of 1. For all other stocks, give them a value of 0. For example, using the following `prev_returns`:\n",
    "\n",
    "```\n",
    "                                     Previous Returns\n",
    "               A         B         C         D         E         F         G\n",
    "2013-07-08     0.015     0.082     0.096     0.020     0.075     0.043     0.074\n",
    "2013-07-09     0.037     0.095     0.027     0.063     0.024     0.086     0.025\n",
    "...            ...       ...       ...       ...       ...       ...       ...\n",
    "```\n",
    "\n",
    "The function `get_top_n` with `top_n` set to 3 should return the following:\n",
    "```\n",
    "                                     Previous Returns\n",
    "               A         B         C         D         E         F         G\n",
    "2013-07-08     0         1         1         0         1         0         0\n",
    "2013-07-09     0         1         0         1         0         1         0\n",
    "...            ...       ...       ...       ...       ...       ...       ...\n",
    "```\n",
    "*Note: You may have to use Panda's [`DataFrame.iterrows`](https://pandas.pydata.org/pandas-docs/version/0.21/generated/pandas.DataFrame.iterrows.html) with [`Series.nlargest`](https://pandas.pydata.org/pandas-docs/version/0.21/generated/pandas.Series.nlargest.html) in order to implement the function. This is one of those cases where creating a vecorization solution is too difficult.*"
   ]
  },
  {
   "cell_type": "code",
   "execution_count": null,
   "metadata": {
    "scrolled": true
   },
   "outputs": [],
   "source": [
    "def get_top_n(prev_returns, top_n):\n",
    "    \"\"\"\n",
    "    Select the top performing stocks\n",
    "    \n",
    "    Parameters\n",
    "    ----------\n",
    "    prev_returns : DataFrame\n",
    "        Previous shifted returns for each ticker and date\n",
    "    top_n : int\n",
    "        The number of top performing stocks to get\n",
    "    \n",
    "    Returns\n",
    "    -------\n",
    "    top_stocks : DataFrame\n",
    "        Top stocks for each ticker and date marked with a 1\n",
    "    \"\"\"\n",
    "    # TODO: Implement Function\n",
    "    \n",
    "    return None\n",
    "\n",
    "project_tests.test_get_top_n(get_top_n)"
   ]
  },
  {
   "cell_type": "markdown",
   "metadata": {},
   "source": [
    "### View Data\n",
    "We want to get the best performing and worst performing stocks. To get the best performing stocks, we'll use the `get_top_n` function. To get the worst performing stocks, we'll also use the `get_top_n` function. However, we pass in `-1*prev_returns` instead of just `prev_returns`. Multiplying by negative one will flip all the positive returns to negative and negative returns to positive. Thus, it will return the worst performing stocks."
   ]
  },
  {
   "cell_type": "code",
   "execution_count": null,
   "metadata": {},
   "outputs": [],
   "source": [
    "top_bottom_n = 50\n",
    "df_long = get_top_n(prev_returns, top_bottom_n)\n",
    "df_short = get_top_n(-1*prev_returns, top_bottom_n)\n",
    "project_helper.print_top(df_long, 'Longed Stocks')\n",
    "project_helper.print_top(df_short, 'Shorted Stocks')"
   ]
  },
  {
   "cell_type": "markdown",
   "metadata": {},
   "source": [
    "## Projected Returns\n",
    "It's now time to check if your trading signal has the potential to become profitable!\n",
    "\n",
    "We'll start by computing the net returns this portfolio would return. For simplicity, we'll assume every stock gets an equal dollar amount of investment. This makes it easier to compute a portfolio's returns as the simple arithmetic average of the individual stock returns.\n",
    "\n",
    "Implement the `portfolio_returns` function to compute the expected portfolio returns. Using `df_long` to indicate which stocks to long and `df_short` to indicate which stocks to short, calculate the returns using `lookahead_returns`. To help with calculation, we've provided you with `n_stocks` as the number of stocks we're investing in a single period."
   ]
  },
  {
   "cell_type": "code",
   "execution_count": null,
   "metadata": {},
   "outputs": [],
   "source": [
    "def portfolio_returns(df_long, df_short, lookahead_returns, n_stocks):\n",
    "    \"\"\"\n",
    "    Compute expected returns for the portfolio, assuming equal investment in each long/short stock.\n",
    "    \n",
    "    Parameters\n",
    "    ----------\n",
    "    df_long : DataFrame\n",
    "        Top stocks for each ticker and date marked with a 1\n",
    "    df_short : DataFrame\n",
    "        Bottom stocks for each ticker and date marked with a 1\n",
    "    lookahead_returns : DataFrame\n",
    "        Lookahead returns for each ticker and date\n",
    "    n_stocks: int\n",
    "        The number number of stocks chosen for each month\n",
    "    \n",
    "    Returns\n",
    "    -------\n",
    "    portfolio_returns : DataFrame\n",
    "        Expected portfolio returns for each ticker and date\n",
    "    \"\"\"\n",
    "    # TODO: Implement Function\n",
    "    \n",
    "    return None\n",
    "\n",
    "project_tests.test_portfolio_returns(portfolio_returns)"
   ]
  },
  {
   "cell_type": "markdown",
   "metadata": {},
   "source": [
    "### View Data\n",
    "Time to see how the portfolio did."
   ]
  },
  {
   "cell_type": "code",
   "execution_count": null,
   "metadata": {},
   "outputs": [],
   "source": [
    "expected_portfolio_returns = portfolio_returns(df_long, df_short, lookahead_returns, 2*top_bottom_n)\n",
    "project_helper.plot_returns(expected_portfolio_returns.T.sum(), 'Portfolio Returns')"
   ]
  },
  {
   "cell_type": "markdown",
   "metadata": {},
   "source": [
    "## Statistical Tests\n",
    "### Annualized Rate of Return"
   ]
  },
  {
   "cell_type": "code",
   "execution_count": null,
   "metadata": {},
   "outputs": [],
   "source": [
    "expected_portfolio_returns_by_date = expected_portfolio_returns.T.sum().dropna()\n",
    "portfolio_ret_mean = expected_portfolio_returns_by_date.mean()\n",
    "portfolio_ret_ste = expected_portfolio_returns_by_date.sem()\n",
    "portfolio_ret_annual_rate = (np.exp(portfolio_ret_mean * 12) - 1) * 100\n",
    "\n",
    "print(\"\"\"\n",
    "Mean:                       {:.6f}\n",
    "Standard Error:             {:.6f}\n",
    "Annualized Rate of Return:  {:.2f}%\n",
    "\"\"\".format(portfolio_ret_mean, portfolio_ret_ste, portfolio_ret_annual_rate))"
   ]
  },
  {
   "cell_type": "markdown",
   "metadata": {},
   "source": [
    "The annualized rate of return allows you to compare the rate of return from this strategy to other quoted rates of return, which are usually quoted on an annual basis. \n",
    "\n",
    "### T-Test\n",
    "Our null hypothesis ($H_0$) is that the actual mean return from the signal is zero. We'll perform a one-sample, one-sided t-test on the observed mean return, to see if we can reject $H_0$.\n",
    "\n",
    "We'll need to first compute the t-statistic, and then find its corresponding p-value. The p-value will indicate the probability of observing a t-statistic equally or more extreme than the one we observed if the null hypothesis were true. A small p-value means that the chance of observing the t-statistic we observed under the null hypothesis is small, and thus casts doubt on the null hypothesis. It's good practice to set a desired level of significance or alpha ($\\alpha$) _before_ computing the p-value, and then reject the null hypothesis if $p < \\alpha$.\n",
    "\n",
    "For this project, we'll use $\\alpha = 0.05$, since it's a common value to use.\n",
    "\n",
    "Implement the `analyze_alpha` function to perform a t-test on the sample of portfolio returns. We've imported the `scipy.stats` module for you to perform the t-test.\n",
    "\n",
    "Note: [`scipy.stats.ttest_1samp`](https://docs.scipy.org/doc/scipy-1.0.0/reference/generated/scipy.stats.ttest_1samp.html) performs a two-sided test, so divide the p-value by 2 to get 1-sided p-value"
   ]
  },
  {
   "cell_type": "code",
   "execution_count": null,
   "metadata": {},
   "outputs": [],
   "source": [
    "from scipy import stats\n",
    "\n",
    "def analyze_alpha(expected_portfolio_returns_by_date):\n",
    "    \"\"\"\n",
    "    Perform a t-test with the null hypothesis being that the expected mean return is zero.\n",
    "    \n",
    "    Parameters\n",
    "    ----------\n",
    "    expected_portfolio_returns_by_date : Pandas Series\n",
    "        Expected portfolio returns for each date\n",
    "    \n",
    "    Returns\n",
    "    -------\n",
    "    t_value\n",
    "        T-statistic from t-test\n",
    "    p_value\n",
    "        Corresponding p-value\n",
    "    \"\"\"\n",
    "    # TODO: Implement Function\n",
    "\n",
    "    return None\n",
    "\n",
    "project_tests.test_analyze_alpha(analyze_alpha)"
   ]
  },
  {
   "cell_type": "markdown",
   "metadata": {},
   "source": [
    "### View Data\n",
    "Let's see what values we get with our portfolio. After you run this, make sure to answer the question below."
   ]
  },
  {
   "cell_type": "code",
   "execution_count": null,
   "metadata": {},
   "outputs": [],
   "source": [
    "t_value, p_value = analyze_alpha(expected_portfolio_returns_by_date)\n",
    "print(\"\"\"\n",
    "Alpha analysis:\n",
    " t-value:        {:.3f}\n",
    " p-value:        {:.6f}\n",
    "\"\"\".format(t_value, p_value))"
   ]
  },
  {
   "cell_type": "markdown",
   "metadata": {},
   "source": [
    "### Question: What p-value did you observe? And what does that indicate about your signal?"
   ]
  },
  {
   "cell_type": "markdown",
   "metadata": {},
   "source": [
    "*#TODO: Put Answer In this Cell*"
   ]
  },
  {
   "cell_type": "markdown",
   "metadata": {},
   "source": [
    "## Submission\n",
    "Now that you're done with the project, it's time to submit it. Click the submit button in the bottom right. One of our reviewers will give you feedback on your project with a pass or not passed grade. You can continue to the next section while you wait for feedback."
   ]
  }
 ],
 "metadata": {
  "kernelspec": {
   "display_name": "Python 3",
   "language": "python",
   "name": "python3"
  },
  "language_info": {
   "codemirror_mode": {
    "name": "ipython",
    "version": 3
   },
   "file_extension": ".py",
   "mimetype": "text/x-python",
   "name": "python",
   "nbconvert_exporter": "python",
   "pygments_lexer": "ipython3",
   "version": "3.7.4"
  }
 },
 "nbformat": 4,
 "nbformat_minor": 2
}
