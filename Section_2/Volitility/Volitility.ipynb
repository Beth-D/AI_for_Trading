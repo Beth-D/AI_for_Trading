{
 "cells": [
  {
   "cell_type": "code",
   "execution_count": null,
   "metadata": {},
   "outputs": [],
   "source": [
    "import pandas as pd\n",
    "import numpy as np\n",
    "\n",
    "def get_most_volatile(prices):\n",
    "    \"\"\"Return the ticker symbol for the most volatile stock.\n",
    "    \n",
    "    Parameters\n",
    "    ----------\n",
    "    prices : pandas.DataFrame\n",
    "        a pandas.DataFrame object with columns: ['ticker', 'date', 'price']\n",
    "    \n",
    "    Returns\n",
    "    -------\n",
    "    ticker : string\n",
    "        ticker symbol for the most volatile stock\n",
    "    \"\"\"\n",
    "    # TODO: Fill in this function.\n",
    "    hv_list = []\n",
    "    \n",
    "    for symbol in prices.ticker.unique():\n",
    "        \n",
    "        symbol_price = prices[prices['ticker'] == symbol]['price'] \n",
    "        symbol_lret = np.log(symbol_price/symbol_price.shift(1))\n",
    "        symbol_hv = symbol_lret.std() \n",
    "        hv_list.append(symbol_hv) \n",
    "        \n",
    "        \n",
    "    hv_Series = pd.Series(hv_list)\n",
    "    hv_Series.index = prices.ticker.unique()\n",
    "    ticker = hv_Series.idxmax()\n",
    "    \n",
    "    return ticker\n",
    "\n",
    "\n",
    "def test_run(filename='prices.csv'):\n",
    "    \"\"\"Test run get_most_volatile() with stock prices from a file.\"\"\"\n",
    "    prices = pd.read_csv(filename, parse_dates=['date'])\n",
    "    print(\"Most volatile stock: {}\".format(get_most_volatile(prices)))\n",
    "\n",
    "\n",
    "if __name__ == '__main__':\n",
    "    test_run()"
   ]
  }
 ],
 "metadata": {
  "kernelspec": {
   "display_name": "Python 3",
   "language": "python",
   "name": "python3"
  },
  "language_info": {
   "codemirror_mode": {
    "name": "ipython",
    "version": 3
   },
   "file_extension": ".py",
   "mimetype": "text/x-python",
   "name": "python",
   "nbconvert_exporter": "python",
   "pygments_lexer": "ipython3",
   "version": "3.7.4"
  }
 },
 "nbformat": 4,
 "nbformat_minor": 2
}
